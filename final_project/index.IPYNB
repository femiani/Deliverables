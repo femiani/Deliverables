{
 "cells": [
  {
   "cell_type": "markdown",
   "id": "ea23e709",
   "metadata": {},
   "source": [
    "Project Objective\n",
    "Use labeled player data to train a supervised multiclass classification model that predicts a player's general position based on their attributes."
   ]
  },
  {
   "cell_type": "markdown",
   "id": "75422bce",
   "metadata": {},
   "source": [
    "Imports and Data Loading"
   ]
  },
  {
   "cell_type": "code",
   "execution_count": 38,
   "id": "42a10770",
   "metadata": {},
   "outputs": [],
   "source": [
    "import pandas as pd\n",
    "import numpy as np\n",
    "from sklearn.preprocessing import LabelEncoder\n",
    "from sklearn.ensemble import RandomForestClassifier\n",
    "from sklearn.metrics import classification_report, accuracy_score\n",
    "\n",
    "# Step 2: Load Data\n",
    "df_train = pd.read_csv('fifa_21.csv')\n",
    "df_test = pd.read_csv('fifa_22.csv')\n"
   ]
  },
  {
   "cell_type": "markdown",
   "id": "b41d3287",
   "metadata": {},
   "source": [
    "Preprocessing"
   ]
  },
  {
   "cell_type": "code",
   "execution_count": 39,
   "id": "10463f6f",
   "metadata": {},
   "outputs": [],
   "source": [
    "# Step 3: Define target and features\n",
    "target = 'club_position'\n",
    "numeric_features = [\n",
    "    'pace', 'shooting', 'passing', 'dribbling', 'defending', 'physic',\n",
    "    'attacking_crossing','attacking_finishing','attacking_heading_accuracy',\n",
    "    'attacking_short_passing','attacking_volleys','skill_dribbling','skill_curve',\n",
    "    'skill_fk_accuracy','skill_long_passing','skill_ball_control','movement_acceleration',\n",
    "    'movement_sprint_speed','movement_agility','movement_reactions','movement_balance',\n",
    "    'power_shot_power','power_jumping','power_stamina','power_strength','power_long_shots',\n",
    "    'mentality_aggression','mentality_interceptions','mentality_positioning','mentality_vision',\n",
    "    'mentality_penalties','mentality_composure','defending_marking_awareness',\n",
    "    'defending_standing_tackle','defending_sliding_tackle'\n",
    "]\n",
    "\n",
    "# Step 4: Filter Function to Apply on Both\n",
    "def clean_df(df):\n",
    "    df = df[df[target].notna()]\n",
    "    df = df[~df[target].isin(['SUB', 'RES'])]\n",
    "    df = df[~df['club_position'].str.startswith('GK', na=False)]\n",
    "    df = df.dropna(subset=numeric_features)\n",
    "    return df\n",
    "\n",
    "df_train = clean_df(df_train)\n",
    "df_test = clean_df(df_test)\n",
    "\n",
    "# Step 5: Encode target using FIFA 21 only\n",
    "le = LabelEncoder()\n",
    "df_train['position_encoded'] = le.fit_transform(df_train[target])\n",
    "\n",
    "# Only use test rows with club positions also seen in training set\n",
    "valid_positions = set(df_train[target].unique())\n",
    "df_test = df_test[df_test[target].isin(valid_positions)]\n",
    "\n",
    "# Step 6: Align encoding in test set\n",
    "df_test['position_encoded'] = le.transform(df_test[target])\n",
    "\n",
    "# Step 7: Prepare X and y\n",
    "X_train = df_train[numeric_features]\n",
    "y_train = df_train['position_encoded']\n",
    "X_test = df_test[numeric_features]\n",
    "y_test = df_test['position_encoded']\n"
   ]
  },
  {
   "cell_type": "markdown",
   "id": "de0e5371",
   "metadata": {},
   "source": [
    "Model Training"
   ]
  },
  {
   "cell_type": "code",
   "execution_count": 41,
   "id": "4844a885",
   "metadata": {},
   "outputs": [
    {
     "name": "stdout",
     "output_type": "stream",
     "text": [
      "              precision    recall  f1-score   support\n",
      "\n",
      "         CAM       0.44      0.35      0.39        23\n",
      "          CB       0.43      0.27      0.33        11\n",
      "         CDM       0.56      0.38      0.45        13\n",
      "          CF       1.00      0.67      0.80         3\n",
      "          CM       0.00      0.00      0.00         4\n",
      "         LAM       1.00      1.00      1.00         1\n",
      "          LB       0.53      0.69      0.60        39\n",
      "         LCB       0.54      0.58      0.56        50\n",
      "         LCM       0.24      0.41      0.31        29\n",
      "         LDM       0.62      0.25      0.36        20\n",
      "          LF       0.00      0.00      0.00         4\n",
      "          LM       0.45      0.29      0.36        34\n",
      "          LS       0.45      0.36      0.40        14\n",
      "          LW       0.46      0.55      0.50        11\n",
      "         LWB       0.00      0.00      0.00         4\n",
      "         RAM       0.00      0.00      0.00         1\n",
      "          RB       0.60      0.67      0.63        39\n",
      "         RCB       0.54      0.58      0.56        50\n",
      "         RCM       0.37      0.52      0.43        29\n",
      "         RDM       0.38      0.15      0.21        20\n",
      "          RF       0.00      0.00      0.00         4\n",
      "          RM       0.29      0.35      0.32        34\n",
      "          RS       0.22      0.14      0.17        14\n",
      "          RW       0.38      0.55      0.44        11\n",
      "         RWB       0.00      0.00      0.00         4\n",
      "          ST       0.59      0.68      0.63        34\n",
      "\n",
      "    accuracy                           0.46       500\n",
      "   macro avg       0.39      0.36      0.36       500\n",
      "weighted avg       0.45      0.46      0.44       500\n",
      "\n",
      "Accuracy: 0.458\n"
     ]
    }
   ],
   "source": [
    "# Step 8: Train Model\n",
    "model = RandomForestClassifier(n_estimators=100, random_state=42)\n",
    "model.fit(X_train, y_train)\n",
    "\n",
    "# Step 9: Predict and Evaluate\n",
    "y_pred = model.predict(X_test)\n",
    "labels_in_test = sorted(np.unique(y_test))\n",
    "target_names = le.inverse_transform(labels_in_test)\n",
    "\n",
    "print(classification_report(y_test, y_pred, labels=labels_in_test, target_names=target_names))\n",
    "print(\"Accuracy:\", accuracy_score(y_test, y_pred))"
   ]
  },
  {
   "cell_type": "markdown",
   "id": "013cd05d",
   "metadata": {},
   "source": [
    "Fuzzy Player Search + Prediction Function"
   ]
  },
  {
   "cell_type": "code",
   "execution_count": 42,
   "id": "24f82a33",
   "metadata": {},
   "outputs": [],
   "source": [
    "# Use df_test for prediction, since it's the 2022 data\n",
    "df = df_test  # Make sure df points to test data\n",
    "\n",
    "# Predict Function by Partial Name Match\n",
    "def search_player_prediction(name_fragment):\n",
    "    # Search player(s) by partial match (case insensitive)\n",
    "    matched = df[df['short_name'].str.lower().str.contains(name_fragment.lower())]\n",
    "\n",
    "    if matched.empty:\n",
    "        print(\"No player found with that name fragment.\")\n",
    "        return\n",
    "\n",
    "    for _, player in matched.iterrows():\n",
    "        # Ensure the player row has all required features\n",
    "        if any(pd.isna(player[numeric_features])):\n",
    "            print(f\"\\nSkipping {player['short_name']} due to missing data.\")\n",
    "            continue\n",
    "\n",
    "        try:\n",
    "            input_features = player[numeric_features].values.astype(float).reshape(1, -1)\n",
    "            predicted_position = le.inverse_transform(model.predict(input_features))\n",
    "            print(f\"\\nPlayer: {player['short_name']}\")\n",
    "            print(f\"   - Actual Position: {player['club_position']}\")\n",
    "            print(f\"   - Predicted Position: {predicted_position[0]}\")\n",
    "        except Exception as e:\n",
    "            print(f\"\\nError with {player['short_name']}: {e}\")\n",
    "\n",
    " "
   ]
  },
  {
   "cell_type": "markdown",
   "id": "2f6551e4",
   "metadata": {},
   "source": [
    "Prediction:"
   ]
  },
  {
   "cell_type": "code",
   "execution_count": 43,
   "id": "cfced870",
   "metadata": {},
   "outputs": [
    {
     "name": "stdout",
     "output_type": "stream",
     "text": [
      "\n",
      "Player: A. Wan-Bissaka\n",
      "   - Actual Position: RB\n",
      "   - Predicted Position: RB\n",
      "\n",
      "Player: B. Saka\n",
      "   - Actual Position: LM\n",
      "   - Predicted Position: LB\n",
      "\n",
      "Player: L. Messi\n",
      "   - Actual Position: RW\n",
      "   - Predicted Position: CAM\n",
      "\n",
      "Player: D. Rice\n",
      "   - Actual Position: LDM\n",
      "   - Predicted Position: CDM\n",
      "\n",
      "Player: Cristiano Ronaldo\n",
      "   - Actual Position: ST\n",
      "   - Predicted Position: LS\n"
     ]
    }
   ],
   "source": [
    "\n",
    "search_player_prediction(\"Saka\")  \n",
    "search_player_prediction(\"messi\")\n",
    "search_player_prediction(\"rice\")  \n",
    "search_player_prediction(\"ronaldo\")"
   ]
  }
 ],
 "metadata": {
  "kernelspec": {
   "display_name": "Python 3",
   "language": "python",
   "name": "python3"
  },
  "language_info": {
   "codemirror_mode": {
    "name": "ipython",
    "version": 3
   },
   "file_extension": ".py",
   "mimetype": "text/x-python",
   "name": "python",
   "nbconvert_exporter": "python",
   "pygments_lexer": "ipython3",
   "version": "3.8.2"
  }
 },
 "nbformat": 4,
 "nbformat_minor": 5
}
